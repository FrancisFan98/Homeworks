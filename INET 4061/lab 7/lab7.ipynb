{
 "cells": [
  {
   "cell_type": "markdown",
   "metadata": {},
   "source": [
    "# Overview"
   ]
  },
  {
   "cell_type": "markdown",
   "metadata": {},
   "source": [
    "Today we are going to find the power of ensemble methods. These ensemble methods are quite useful when we have weak classifiers. The main purpose of these ensemble methods is to create a more robust and accurate final model(strong correlated model) and therefore achieve better results. The way ensemble methods achieve this result is by combining many weak classifiers together. In this way, if we do bagging, we can reduce variance and if we do boosting, we can reduce bias. There are also many other ways to do ensemble methods. Lets go and explore the facinating effect of them."
   ]
  },
  {
   "cell_type": "code",
   "execution_count": 4,
   "metadata": {},
   "outputs": [],
   "source": [
    "from sklearn.datasets import load_wine\n",
    "import pandas as pd\n",
    "import numpy as np\n",
    "import matplotlib.pyplot as plt\n"
   ]
  },
  {
   "cell_type": "markdown",
   "metadata": {},
   "source": [
    "# Data\n",
    "    This data set used in the sklean dataset containing information on wine fron UCI. The data consists of 13 variables and one numerical target indicating the quality of the product.https://scikit-learn.org/stable/modules/generated/sklearn.datasets.load_wine.html#sklearn.datasets.load_wine "
   ]
  },
  {
   "cell_type": "code",
   "execution_count": 61,
   "metadata": {},
   "outputs": [],
   "source": [
    "X, y = load_wine(return_X_y=True)\n",
    "data = pd.DataFrame(load_wine().data, columns=load_wine().feature_names)\n",
    "target = pd.Series(load_wine().target)"
   ]
  },
  {
   "cell_type": "markdown",
   "metadata": {},
   "source": [
    "# Exploratory Data Analysis \n",
    "    Since we are trying to understand the hidden relationships and correlations under the dataset, it is quite helpful for us to take a EDA on the dataset and have a good look of what might be going on."
   ]
  },
  {
   "cell_type": "markdown",
   "metadata": {},
   "source": [
    "The first thing to look at is the dimensions of the dataset"
   ]
  },
  {
   "cell_type": "code",
   "execution_count": 62,
   "metadata": {},
   "outputs": [
    {
     "data": {
      "text/plain": [
       "((178, 13), (178,))"
      ]
     },
     "execution_count": 62,
     "metadata": {},
     "output_type": "execute_result"
    }
   ],
   "source": [
    "X.shape, y.shape"
   ]
  },
  {
   "cell_type": "markdown",
   "metadata": {},
   "source": [
    "This dataset has 178 records of wines. Each record has 13 elements. And target is just a single value for each record"
   ]
  },
  {
   "cell_type": "markdown",
   "metadata": {},
   "source": [
    "Check whether there is null values in the dataset"
   ]
  },
  {
   "cell_type": "code",
   "execution_count": 63,
   "metadata": {},
   "outputs": [
    {
     "data": {
      "text/plain": [
       "False"
      ]
     },
     "execution_count": 63,
     "metadata": {},
     "output_type": "execute_result"
    }
   ],
   "source": [
    "data.isnull().values.any()\n",
    "target.isnull().values.any()"
   ]
  },
  {
   "cell_type": "markdown",
   "metadata": {},
   "source": [
    "This dataset turns out to be quite clean without any missing value. I guess it is preprocessed by professional people and then uploaded. "
   ]
  },
  {
   "cell_type": "code",
   "execution_count": 64,
   "metadata": {},
   "outputs": [
    {
     "data": {
      "text/html": [
       "<div>\n",
       "<style scoped>\n",
       "    .dataframe tbody tr th:only-of-type {\n",
       "        vertical-align: middle;\n",
       "    }\n",
       "\n",
       "    .dataframe tbody tr th {\n",
       "        vertical-align: top;\n",
       "    }\n",
       "\n",
       "    .dataframe thead th {\n",
       "        text-align: right;\n",
       "    }\n",
       "</style>\n",
       "<table border=\"1\" class=\"dataframe\">\n",
       "  <thead>\n",
       "    <tr style=\"text-align: right;\">\n",
       "      <th></th>\n",
       "      <th>alcohol</th>\n",
       "      <th>malic_acid</th>\n",
       "      <th>ash</th>\n",
       "      <th>alcalinity_of_ash</th>\n",
       "      <th>magnesium</th>\n",
       "      <th>total_phenols</th>\n",
       "      <th>flavanoids</th>\n",
       "      <th>nonflavanoid_phenols</th>\n",
       "      <th>proanthocyanins</th>\n",
       "      <th>color_intensity</th>\n",
       "      <th>hue</th>\n",
       "      <th>od280/od315_of_diluted_wines</th>\n",
       "      <th>proline</th>\n",
       "    </tr>\n",
       "  </thead>\n",
       "  <tbody>\n",
       "    <tr>\n",
       "      <td>count</td>\n",
       "      <td>178.000000</td>\n",
       "      <td>178.000000</td>\n",
       "      <td>178.000000</td>\n",
       "      <td>178.000000</td>\n",
       "      <td>178.000000</td>\n",
       "      <td>178.000000</td>\n",
       "      <td>178.000000</td>\n",
       "      <td>178.000000</td>\n",
       "      <td>178.000000</td>\n",
       "      <td>178.000000</td>\n",
       "      <td>178.000000</td>\n",
       "      <td>178.000000</td>\n",
       "      <td>178.000000</td>\n",
       "    </tr>\n",
       "    <tr>\n",
       "      <td>mean</td>\n",
       "      <td>13.000618</td>\n",
       "      <td>2.336348</td>\n",
       "      <td>2.366517</td>\n",
       "      <td>19.494944</td>\n",
       "      <td>99.741573</td>\n",
       "      <td>2.295112</td>\n",
       "      <td>2.029270</td>\n",
       "      <td>0.361854</td>\n",
       "      <td>1.590899</td>\n",
       "      <td>5.058090</td>\n",
       "      <td>0.957449</td>\n",
       "      <td>2.611685</td>\n",
       "      <td>746.893258</td>\n",
       "    </tr>\n",
       "    <tr>\n",
       "      <td>std</td>\n",
       "      <td>0.811827</td>\n",
       "      <td>1.117146</td>\n",
       "      <td>0.274344</td>\n",
       "      <td>3.339564</td>\n",
       "      <td>14.282484</td>\n",
       "      <td>0.625851</td>\n",
       "      <td>0.998859</td>\n",
       "      <td>0.124453</td>\n",
       "      <td>0.572359</td>\n",
       "      <td>2.318286</td>\n",
       "      <td>0.228572</td>\n",
       "      <td>0.709990</td>\n",
       "      <td>314.907474</td>\n",
       "    </tr>\n",
       "    <tr>\n",
       "      <td>min</td>\n",
       "      <td>11.030000</td>\n",
       "      <td>0.740000</td>\n",
       "      <td>1.360000</td>\n",
       "      <td>10.600000</td>\n",
       "      <td>70.000000</td>\n",
       "      <td>0.980000</td>\n",
       "      <td>0.340000</td>\n",
       "      <td>0.130000</td>\n",
       "      <td>0.410000</td>\n",
       "      <td>1.280000</td>\n",
       "      <td>0.480000</td>\n",
       "      <td>1.270000</td>\n",
       "      <td>278.000000</td>\n",
       "    </tr>\n",
       "    <tr>\n",
       "      <td>25%</td>\n",
       "      <td>12.362500</td>\n",
       "      <td>1.602500</td>\n",
       "      <td>2.210000</td>\n",
       "      <td>17.200000</td>\n",
       "      <td>88.000000</td>\n",
       "      <td>1.742500</td>\n",
       "      <td>1.205000</td>\n",
       "      <td>0.270000</td>\n",
       "      <td>1.250000</td>\n",
       "      <td>3.220000</td>\n",
       "      <td>0.782500</td>\n",
       "      <td>1.937500</td>\n",
       "      <td>500.500000</td>\n",
       "    </tr>\n",
       "    <tr>\n",
       "      <td>50%</td>\n",
       "      <td>13.050000</td>\n",
       "      <td>1.865000</td>\n",
       "      <td>2.360000</td>\n",
       "      <td>19.500000</td>\n",
       "      <td>98.000000</td>\n",
       "      <td>2.355000</td>\n",
       "      <td>2.135000</td>\n",
       "      <td>0.340000</td>\n",
       "      <td>1.555000</td>\n",
       "      <td>4.690000</td>\n",
       "      <td>0.965000</td>\n",
       "      <td>2.780000</td>\n",
       "      <td>673.500000</td>\n",
       "    </tr>\n",
       "    <tr>\n",
       "      <td>75%</td>\n",
       "      <td>13.677500</td>\n",
       "      <td>3.082500</td>\n",
       "      <td>2.557500</td>\n",
       "      <td>21.500000</td>\n",
       "      <td>107.000000</td>\n",
       "      <td>2.800000</td>\n",
       "      <td>2.875000</td>\n",
       "      <td>0.437500</td>\n",
       "      <td>1.950000</td>\n",
       "      <td>6.200000</td>\n",
       "      <td>1.120000</td>\n",
       "      <td>3.170000</td>\n",
       "      <td>985.000000</td>\n",
       "    </tr>\n",
       "    <tr>\n",
       "      <td>max</td>\n",
       "      <td>14.830000</td>\n",
       "      <td>5.800000</td>\n",
       "      <td>3.230000</td>\n",
       "      <td>30.000000</td>\n",
       "      <td>162.000000</td>\n",
       "      <td>3.880000</td>\n",
       "      <td>5.080000</td>\n",
       "      <td>0.660000</td>\n",
       "      <td>3.580000</td>\n",
       "      <td>13.000000</td>\n",
       "      <td>1.710000</td>\n",
       "      <td>4.000000</td>\n",
       "      <td>1680.000000</td>\n",
       "    </tr>\n",
       "  </tbody>\n",
       "</table>\n",
       "</div>"
      ],
      "text/plain": [
       "          alcohol  malic_acid         ash  alcalinity_of_ash   magnesium  \\\n",
       "count  178.000000  178.000000  178.000000         178.000000  178.000000   \n",
       "mean    13.000618    2.336348    2.366517          19.494944   99.741573   \n",
       "std      0.811827    1.117146    0.274344           3.339564   14.282484   \n",
       "min     11.030000    0.740000    1.360000          10.600000   70.000000   \n",
       "25%     12.362500    1.602500    2.210000          17.200000   88.000000   \n",
       "50%     13.050000    1.865000    2.360000          19.500000   98.000000   \n",
       "75%     13.677500    3.082500    2.557500          21.500000  107.000000   \n",
       "max     14.830000    5.800000    3.230000          30.000000  162.000000   \n",
       "\n",
       "       total_phenols  flavanoids  nonflavanoid_phenols  proanthocyanins  \\\n",
       "count     178.000000  178.000000            178.000000       178.000000   \n",
       "mean        2.295112    2.029270              0.361854         1.590899   \n",
       "std         0.625851    0.998859              0.124453         0.572359   \n",
       "min         0.980000    0.340000              0.130000         0.410000   \n",
       "25%         1.742500    1.205000              0.270000         1.250000   \n",
       "50%         2.355000    2.135000              0.340000         1.555000   \n",
       "75%         2.800000    2.875000              0.437500         1.950000   \n",
       "max         3.880000    5.080000              0.660000         3.580000   \n",
       "\n",
       "       color_intensity         hue  od280/od315_of_diluted_wines      proline  \n",
       "count       178.000000  178.000000                    178.000000   178.000000  \n",
       "mean          5.058090    0.957449                      2.611685   746.893258  \n",
       "std           2.318286    0.228572                      0.709990   314.907474  \n",
       "min           1.280000    0.480000                      1.270000   278.000000  \n",
       "25%           3.220000    0.782500                      1.937500   500.500000  \n",
       "50%           4.690000    0.965000                      2.780000   673.500000  \n",
       "75%           6.200000    1.120000                      3.170000   985.000000  \n",
       "max          13.000000    1.710000                      4.000000  1680.000000  "
      ]
     },
     "execution_count": 64,
     "metadata": {},
     "output_type": "execute_result"
    }
   ],
   "source": [
    "data.describe()"
   ]
  },
  {
   "cell_type": "markdown",
   "metadata": {},
   "source": [
    "Build a histogram of target"
   ]
  },
  {
   "cell_type": "code",
   "execution_count": 66,
   "metadata": {},
   "outputs": [
    {
     "data": {
      "text/plain": [
       "<BarContainer object of 3 artists>"
      ]
     },
     "execution_count": 66,
     "metadata": {},
     "output_type": "execute_result"
    },
    {
     "data": {
      "image/png": "[encoded data removed]",
      "text/plain": [
       "<Figure size 432x288 with 1 Axes>"
      ]
     },
     "metadata": {
      "needs_background": "light"
     },
     "output_type": "display_data"
    }
   ],
   "source": [
    "x = target.unique()\n",
    "height = target.value_counts()\n",
    "plt.bar(x = x, height = height, width = .3)"
   ]
  },
  {
   "cell_type": "markdown",
   "metadata": {},
   "source": [
    "From the bar plot above, we can see that the distribution of target values are quite even. All three categories are almost the same in number. Therefore, we can spare the error from skewed distribution of target values.\n"
   ]
  },
  {
   "cell_type": "markdown",
   "metadata": {},
   "source": [
    "# Models\n",
    "\n",
    "The next step is to understand the dataset is to build some models and put the data in so that we can have a look about how can a computer interpret the data. For this assignment, I will use Random Forest,  kNN,  SVC, Logistic Regression to find the relations in the data."
   ]
  },
  {
   "cell_type": "code",
   "execution_count": 75,
   "metadata": {},
   "outputs": [],
   "source": [
    "import warnings\n",
    "warnings.filterwarnings(\"ignore\")"
   ]
  },
  {
   "cell_type": "code",
   "execution_count": 123,
   "metadata": {},
   "outputs": [],
   "source": [
    "from sklearn.ensemble import RandomForestClassifier\n",
    "from sklearn.neighbors import KNeighborsClassifier\n",
    "from sklearn.svm import SVC\n",
    "from sklearn.linear_model import LogisticRegression\n",
    "from sklearn import model_selection\n",
    "from sklearn import model_selection \n",
    "from sklearn.ensemble import BaggingClassifier\n",
    "from sklearn.model_selection import GridSearchCV\n",
    "from mlxtend.classifier import StackingClassifier\n",
    "\n",
    "RANDOM_SEED = 42\n",
    "rf_clf = RandomForestClassifier(n_estimators=10, random_state=RANDOM_SEED) # random forest\n",
    "knn_clf = KNeighborsClassifier(n_neighbors=2)\n",
    "svc_clf = SVC(C=10000.0, kernel='rbf', random_state=RANDOM_SEED)\n",
    "lr_clf = LogisticRegression(C=20000, penalty='l2', random_state=RANDOM_SEED)\n",
    "\n",
    "clfs = [rf_clf, knn_clf, svc_clf, lr_clf]\n",
    "labels = [clf.__class__.__name__ for clf in clfs]"
   ]
  },
  {
   "cell_type": "markdown",
   "metadata": {},
   "source": [
    "Today, instead of predicting the results with these basic models, we are also going to use some other ensemble methods to try to improve the accuracy of these models. There are 4 different ensemble methods we are going to use. <br>1 : bagging<br> 2 : boostring<br> 3 : stacked model <br> 4 : stacked model  w/ Grid Search Cross Validation hyperparameters"
   ]
  },
  {
   "cell_type": "markdown",
   "metadata": {},
   "source": [
    "Firstly, let's see what the results of base models are. "
   ]
  },
  {
   "cell_type": "code",
   "execution_count": 88,
   "metadata": {},
   "outputs": [
    {
     "name": "stdout",
     "output_type": "stream",
     "text": [
      "Accuracy: 0.9054 (+/- 0.0564) [RandomForestClassifier]\n",
      "Accuracy: 0.6469 (+/- 0.0643) [KNeighborsClassifier]\n",
      "Accuracy: 0.4494 (+/- 0.0008) [SVC]\n",
      "Accuracy: 0.9216 (+/- 0.0200) [LogisticRegression]\n"
     ]
    }
   ],
   "source": [
    "base_accuracies = []\n",
    "for clf, label in zip(clfs, labels):\n",
    "    cv_scores = model_selection.cross_val_score(clf, X, y, cv=3, scoring='accuracy')\n",
    "    print(\"Accuracy: %0.4f (+/- %0.4f) [%s]\" % (cv_scores.mean(), cv_scores.std(), label))\n",
    "    base_accuracies.append(cv_scores.mean())\n",
    "    "
   ]
  },
  {
   "cell_type": "markdown",
   "metadata": {},
   "source": [
    "Next, lets put these models into bagging ensemble methods."
   ]
  },
  {
   "cell_type": "code",
   "execution_count": 91,
   "metadata": {},
   "outputs": [
    {
     "name": "stdout",
     "output_type": "stream",
     "text": [
      "Accuracy: 0.9331 (+/- 0.0406) [Bagging RandomForestClassifier]\n",
      "Accuracy: 0.8828 (+/- 0.0715) [Bagging KNeighborsClassifier]\n",
      "Accuracy: 0.7534 (+/- 0.0972) [Bagging SVC]\n",
      "Accuracy: 0.9109 (+/- 0.0547) [Bagging LogisticRegression]\n"
     ]
    }
   ],
   "source": [
    "bagging_accuracies = []\n",
    "ratio = .4\n",
    "for clf, label in zip(clfs, labels):\n",
    "    bagging_clf = BaggingClassifier(clf, max_samples=ratio, max_features=3, random_state=RANDOM_SEED)\n",
    "    bagging_scores = cross_val_score(bagging_clf, X, y, cv=3, n_jobs=-1)\n",
    "    bagging_accuracies.append(bagging_scores.mean())\n",
    "    print(\"Accuracy: %0.4f (+/- %0.4f) [Bagging %s]\" % (bagging_scores.mean(), bagging_scores.std(), clf.__class__.__name__))"
   ]
  },
  {
   "cell_type": "markdown",
   "metadata": {},
   "source": [
    "Next, lets put these models into boostring ensemble methods"
   ]
  },
  {
   "cell_type": "code",
   "execution_count": 100,
   "metadata": {},
   "outputs": [
    {
     "name": "stdout",
     "output_type": "stream",
     "text": [
      "Accuracy: 0.843, Variance: (+/-) 0.033 [Ada Boost]\n",
      "Accuracy: 0.848, Variance: (+/-) 0.062 [Gradient Boost]\n",
      "Accuracy: 0.872, Variance: (+/-) 0.068 [XG Boost]\n",
      "Accuracy: 0.882, Variance: (+/-) 0.062 [Ensemble]\n"
     ]
    }
   ],
   "source": [
    "from sklearn.ensemble import AdaBoostClassifier, GradientBoostingClassifier\n",
    "from mlxtend.classifier import EnsembleVoteClassifier\n",
    "from xgboost import XGBClassifier\n",
    "\n",
    "boost_accuracies = []\n",
    "ada_boost = AdaBoostClassifier(n_estimators=5)\n",
    "grad_boost = GradientBoostingClassifier(n_estimators=10)\n",
    "xgb_boost = XGBClassifier(max_depth=5, learning_rate=0.001)\n",
    "ensemble_clf = EnsembleVoteClassifier(clfs=[ada_boost, grad_boost, xgb_boost], voting='hard')\n",
    "boosting_labels = ['Ada Boost', 'Gradient Boost', 'XG Boost', 'Ensemble']\n",
    "\n",
    "for clf, label in zip([ada_boost, grad_boost, xgb_boost, ensemble_clf], boosting_labels):\n",
    "    scores = cross_val_score(clf, X, y, cv=3, scoring='accuracy')\n",
    "    boost_accuracies.append(scores.mean())\n",
    "    print(\"Accuracy: {0:.3f}, Variance: (+/-) {1:.3f} [{2}]\".format(scores.mean(), scores.std(), label))"
   ]
  },
  {
   "cell_type": "markdown",
   "metadata": {},
   "source": [
    "Next, lets put these models into stack method"
   ]
  },
  {
   "cell_type": "code",
   "execution_count": 138,
   "metadata": {},
   "outputs": [
    {
     "name": "stdout",
     "output_type": "stream",
     "text": [
      "Accuracy: 0.9054 (+/- 0.0564) [RandomForestClassifier]\n",
      "Accuracy: 0.6469 (+/- 0.0643) [KNeighborsClassifier]\n",
      "Accuracy: 0.4494 (+/- 0.0008) [SVC]\n",
      "Accuracy: 0.9216 (+/- 0.0200) [LogisticRegression]\n"
     ]
    }
   ],
   "source": [
    "stack_accuraies = []\n",
    "sclf = StackingClassifier(classifiers=clfs, meta_classifier=lr_clf)\n",
    "\n",
    "for clf, label in zip(clfs, labels):\n",
    "    cv_scores = model_selection.cross_val_score(clf, X, y, cv=3, scoring='accuracy')\n",
    "    print(\"Accuracy: %0.4f (+/- %0.4f) [%s]\" % (cv_scores.mean(), cv_scores.std(), label))\n",
    "    stack_accuraies.append(cv_scores.mean())"
   ]
  },
  {
   "cell_type": "code",
   "execution_count": 139,
   "metadata": {},
   "outputs": [
    {
     "data": {
      "text/plain": [
       "[0.9053639846743295,\n",
       " 0.6469348659003832,\n",
       " 0.44942528735632187,\n",
       " 0.921647509578544]"
      ]
     },
     "execution_count": 139,
     "metadata": {},
     "output_type": "execute_result"
    }
   ],
   "source": [
    "stack_accuraies"
   ]
  },
  {
   "cell_type": "markdown",
   "metadata": {},
   "source": [
    "Next, lets put these models into stacked model  w/ Grid Search Cross Validation hyperparameters"
   ]
  },
  {
   "cell_type": "code",
   "execution_count": 136,
   "metadata": {},
   "outputs": [
    {
     "name": "stdout",
     "output_type": "stream",
     "text": [
      "Best parameters: {'kneighborsclassifier__n_neighbors': 3, 'randomforestclassifier__max_depth': 4, 'randomforestclassifier__n_estimators': 18, 'svc__C': 1}\n",
      "Accuracy: 0.97\n"
     ]
    }
   ],
   "source": [
    "params = {'randomforestclassifier__n_estimators': np.arange(10,20), \n",
    "          'randomforestclassifier__max_depth': np.arange(1,5), \n",
    "          'kneighborsclassifier__n_neighbors': np.arange(1,20,2),\n",
    "          'svc__C': [0.001,0.01,0.1,1,10,100]}\n",
    "\n",
    "gsearch_cv = GridSearchCV(estimator=sclf, param_grid=params, cv=5, refit=True)\n",
    "gsearch_cv.fit(X, y)\n",
    "\n",
    "cv_keys = ('mean_test_score', 'std_test_score', 'params')\n",
    "print('Best parameters: %s' % gsearch_cv.best_params_)\n",
    "print('Accuracy: %.2f' % gsearch_cv.best_score_)"
   ]
  },
  {
   "cell_type": "markdown",
   "metadata": {},
   "source": [
    "Lets make a graph to compare the results of these different methods. "
   ]
  },
  {
   "cell_type": "code",
   "execution_count": 172,
   "metadata": {},
   "outputs": [
    {
     "data": {
      "image/png": "[encoded data removed]",
      "text/plain": [
       "<Figure size 1080x360 with 1 Axes>"
      ]
     },
     "metadata": {
      "needs_background": "light"
     },
     "output_type": "display_data"
    }
   ],
   "source": [
    "plt.figure(figsize=(15, 5))\n",
    "plt.plot(labels, base_accuracies, color=\"purple\")\n",
    "plt.plot(labels, bagging_accuracies, color='olive')\n",
    "plt.plot(labels, boost_accuracies, marker='', color='red')\n",
    "plt.axhline(0.97)\n",
    "plt.ylabel(\"accuracy\")\n",
    "plt.ylabel(\"model\")\n",
    "plt.legend([\"base accuracy\", \"bagging accuracies\",\"boost accuracies\", \"stacking with best parameters\"])\n",
    "\n",
    "plt.show()"
   ]
  },
  {
   "cell_type": "markdown",
   "metadata": {},
   "source": [
    "As we can see above, the stacked model w/ Grid Search Cross Validation hyperparameters is giving us the best result. Also, by incorporating ensemble methods to the classifiers, the result is becoming both more consistant more accurate. "
   ]
  },
  {
   "cell_type": "markdown",
   "metadata": {},
   "source": [
    "# Conclusions"
   ]
  },
  {
   "cell_type": "markdown",
   "metadata": {},
   "source": [
    "In many cases, when we are trying to make a model to predict the values from data, the model is not accurate enough since one single model is weak. However, if we manipulate these models and use ensemble methods like bagging(reducing Variance), boosting(reducing biad) and etc, we can reach a result that is much more robust and accurate. \n",
    "\n",
    "In this example, the stacked model w/ Grid Search Cross Validation hyperparameters is giving us the best result. I guess this achieve by finding the parameters that return the best result. However, when I run the method, I took a lot of time since It have to train a bunch of different classifiers to compare the accuracy result. \n",
    "\n",
    "Therefore, my recommendation is that we do grid search only if we are dealing with a small dataset or we need to be perfect on the test results(like fraud testing or cancer testing). Otherwise, other ensemble methods would probably yield acceptable result in a short time. "
   ]
  }
 ],
 "metadata": {
  "kernelspec": {
   "display_name": "Python 3",
   "language": "python",
   "name": "python3"
  },
  "language_info": {
   "codemirror_mode": {
    "name": "ipython",
    "version": 3
   },
   "file_extension": ".py",
   "mimetype": "text/x-python",
   "name": "python",
   "nbconvert_exporter": "python",
   "pygments_lexer": "ipython3",
   "version": "3.7.4"
  }
 },
 "nbformat": 4,
 "nbformat_minor": 2
}
